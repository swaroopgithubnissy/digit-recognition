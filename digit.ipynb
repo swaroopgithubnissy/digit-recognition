
import numpy as np
import pandas as pd
import matplotlib.pyplot as plt
df=pd.read_csv('mnist_train.csv')
print(df.shape)
(60000, 785)
data= df.values
x=data[:, 1:] #all pixel values
y=data[:,0] #labels
print(y)
[5 0 4 ... 5 6 8]
print(x)
[[0 0 0 ... 0 0 0]
 [0 0 0 ... 0 0 0]
 [0 0 0 ... 0 0 0]
 ...
 [0 0 0 ... 0 0 0]
 [0 0 0 ... 0 0 0]
 [0 0 0 ... 0 0 0]]
split=0.8*x.shape[0]
split=int(split)
x_train=x[:split,:]
y_train=y[:split]
x_test=x[split:,:]
y_test=y[split:]
print(x_train.shape)
(48000, 784)
print(x_test.shape)
(12000, 784)
def drawImg(sample):
    img = sample.reshape((28,28))
    plt.imshow(img, cmap='gray')
    plt.show()
    
drawImg(x_train[4])    
print(y_train[4])  

9
def distance(x1,x2):
    return np.sqrt(sum((x1-x2)**2))
def knn(x,y,query,k=5):
    vals=[]
    for i in range(x.shape[0]):
        d=distance(query,x[i])
        vals.append((d,y[i]))
    vals=sorted(vals)
    vals=vals[:k]
    vals=np.array(vals)
    new_vals=np.unique(vals[:,1],return_counts=True)
    index=new_vals[1].argmax()
    pred=new_vals[0][index]
    return pred
pred=knn(x_train,y_train,x_test[4])
print(int(pred))
5
drawImg(x_test[4])

drawImg(x_test[7])

 
